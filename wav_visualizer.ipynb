{
 "cells": [
  {
   "cell_type": "markdown",
   "metadata": {},
   "source": [
    "Load the wav files (twilio_call_unfiltered and twilio_call_filtered)."
   ]
  },
  {
   "cell_type": "code",
   "execution_count": null,
   "metadata": {},
   "outputs": [],
   "source": [
    "import matplotlib.pyplot as plt\n",
    "import numpy as np\n",
    "import wave\n",
    "import sys\n",
    "\n",
    "unfiltered = wave.open(\"twilio_call_unfiltered.wav\", \"r\")\n",
    "filtered = wave.open(\"twilio_call_filtered.wav\", \"r\")\n",
    "\n",
    "# Extract Raw Audio from Wav File\n",
    "signal = unfiltered.readframes(-1)\n",
    "signal = np.fromstring(signal, np.int16)\n",
    "\n",
    "# If Stereo\n",
    "if unfiltered.getnchannels() == 2:\n",
    "    print(\"Just mono files\")\n",
    "    sys.exit(0)\n",
    "\n",
    "plt.figure(1)\n",
    "plt.title(\"Unfiltered\")\n",
    "plt.plot(signal)\n",
    "plt.show()\n",
    "\n",
    "# Repeat for filtered\n",
    "signal = filtered.readframes(-1)\n",
    "signal = np.fromstring(signal, np.int16)\n",
    "\n",
    "# If Stereo\n",
    "if filtered.getnchannels() == 2:\n",
    "    print(\"Just mono files\")\n",
    "    sys.exit(0)\n",
    "    \n",
    "plt.figure(2)\n",
    "plt.title(\"Filtered\")\n",
    "plt.plot(signal)\n",
    "plt.show()"
   ]
  }
 ],
 "metadata": {
  "kernelspec": {
   "display_name": "3.12.3",
   "language": "python",
   "name": "python3"
  },
  "language_info": {
   "name": "python",
   "version": "3.12.3"
  }
 },
 "nbformat": 4,
 "nbformat_minor": 2
}
